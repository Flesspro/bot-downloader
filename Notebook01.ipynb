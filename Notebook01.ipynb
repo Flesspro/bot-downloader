{
 "cells": [
  {
   "cell_type": "code",
   "execution_count": 1,
   "metadata": {},
   "outputs": [
    {
     "name": "stdout",
     "output_type": "stream",
     "text": [
      "[WinError 3] Системе не удается найти указанный путь: 'C:\\\\Users\\\\FLESS\\\\Dropbox\\\\Fless\\\\15_Bot\\\\Bot-Downloader'\n",
      "C:\\Users\\FLESS\\Dropbox\\Fless\\15_Tech\\Bot-Downloader\n"
     ]
    }
   ],
   "source": [
    "%cd C:\\Users\\FLESS\\Dropbox\\Fless\\15_Bot\\Bot-Downloader"
   ]
  },
  {
   "cell_type": "code",
   "execution_count": 2,
   "metadata": {
    "scrolled": true
   },
   "outputs": [
    {
     "name": "stdout",
     "output_type": "stream",
     "text": [
      "C:\\Users\\FLESS\\Dropbox\\Fless\\15_Tech\\Bot-Downloader\n"
     ]
    }
   ],
   "source": [
    "import os\n",
    "cwd = os.getcwd()\n",
    "print(cwd)"
   ]
  },
  {
   "cell_type": "code",
   "execution_count": null,
   "metadata": {
    "scrolled": false
   },
   "outputs": [
    {
     "name": "stdout",
     "output_type": "stream",
     "text": [
      "bot has started..\n"
     ]
    },
    {
     "name": "stderr",
     "output_type": "stream",
     "text": [
      "2018-04-23 20:06:15,067 (__init__.py:224 MainThread) ERROR - TeleBot: \"A request to the Telegram API was unsuccessful. The server returned HTTP 409 Conflict. Response body:\n",
      "[b'{\"ok\":false,\"error_code\":409,\"description\":\"Conflict: terminated by other getUpdates request; make sure that only one bot instance is running\"}']\"\n"
     ]
    },
    {
     "name": "stdout",
     "output_type": "stream",
     "text": [
      "{'content_type': 'document', 'message_id': 670, 'from_user': {'id': 249525389, 'first_name': 'Victor', 'username': 'victor_rogulenko', 'last_name': 'Rogulenko'}, 'date': 1524503175, 'chat': {'type': 'private', 'last_name': 'Rogulenko', 'first_name': 'Victor', 'username': 'victor_rogulenko', 'id': 249525389, 'title': None, 'all_members_are_administrators': None}, 'forward_from_chat': None, 'forward_from': None, 'forward_date': None, 'reply_to_message': None, 'edit_date': None, 'text': None, 'entities': None, 'audio': None, 'document': {'file_id': 'BQADAgADswEAAl4n8EozBtCOzF67EwI', 'thumb': None, 'file_name': 'starter.py', 'mime_type': 'text/x-python-script', 'file_size': 1212}, 'photo': None, 'sticker': None, 'video': None, 'voice': None, 'caption': None, 'contact': None, 'location': None, 'venue': None, 'new_chat_member': None, 'left_chat_member': None, 'new_chat_title': None, 'new_chat_photo': None, 'delete_chat_photo': None, 'group_chat_created': None, 'supergroup_chat_created': None, 'channel_chat_created': None, 'migrate_to_chat_id': None, 'migrate_from_chat_id': None, 'pinned_message': None}\n",
      "C:/Users/FLESS/Dropbox/Fless/06_Progress/NEW_ARRIVALS/20180423_starter.py\n",
      "BQADAgADswEAAl4n8EozBtCOzF67EwI\n",
      "documents/file_848.py\n",
      "https://api.telegram.org/file/bot477447297:AAFFJLupCV5g5guptS99oLjWbdWlNTsxd_0/documents/file_848.py\n"
     ]
    },
    {
     "name": "stderr",
     "output_type": "stream",
     "text": [
      "2018-04-23 20:06:19,824 (__init__.py:224 MainThread) ERROR - TeleBot: \"A request to the Telegram API was unsuccessful. The server returned HTTP 409 Conflict. Response body:\n",
      "[b'{\"ok\":false,\"error_code\":409,\"description\":\"Conflict: terminated by other getUpdates request; make sure that only one bot instance is running\"}']\"\n",
      "2018-04-23 20:06:24,517 (__init__.py:224 MainThread) ERROR - TeleBot: \"A request to the Telegram API was unsuccessful. The server returned HTTP 409 Conflict. Response body:\n",
      "[b'{\"ok\":false,\"error_code\":409,\"description\":\"Conflict: terminated by other getUpdates request; make sure that only one bot instance is running\"}']\"\n",
      "2018-04-23 20:06:29,290 (__init__.py:224 MainThread) ERROR - TeleBot: \"A request to the Telegram API was unsuccessful. The server returned HTTP 409 Conflict. Response body:\n",
      "[b'{\"ok\":false,\"error_code\":409,\"description\":\"Conflict: terminated by other getUpdates request; make sure that only one bot instance is running\"}']\"\n",
      "2018-04-23 20:06:33,966 (__init__.py:224 MainThread) ERROR - TeleBot: \"A request to the Telegram API was unsuccessful. The server returned HTTP 409 Conflict. Response body:\n",
      "[b'{\"ok\":false,\"error_code\":409,\"description\":\"Conflict: terminated by other getUpdates request; make sure that only one bot instance is running\"}']\"\n",
      "2018-04-23 20:06:41,355 (__init__.py:224 MainThread) ERROR - TeleBot: \"A request to the Telegram API was unsuccessful. The server returned HTTP 409 Conflict. Response body:\n",
      "[b'{\"ok\":false,\"error_code\":409,\"description\":\"Conflict: terminated by other getUpdates request; make sure that only one bot instance is running\"}']\"\n",
      "2018-04-23 20:06:46,063 (__init__.py:224 MainThread) ERROR - TeleBot: \"A request to the Telegram API was unsuccessful. The server returned HTTP 409 Conflict. Response body:\n",
      "[b'{\"ok\":false,\"error_code\":409,\"description\":\"Conflict: terminated by other getUpdates request; make sure that only one bot instance is running\"}']\"\n",
      "2018-04-23 20:06:50,918 (__init__.py:224 MainThread) ERROR - TeleBot: \"A request to the Telegram API was unsuccessful. The server returned HTTP 409 Conflict. Response body:\n",
      "[b'{\"ok\":false,\"error_code\":409,\"description\":\"Conflict: terminated by other getUpdates request; make sure that only one bot instance is running\"}']\"\n",
      "2018-04-23 20:06:55,769 (__init__.py:224 MainThread) ERROR - TeleBot: \"A request to the Telegram API was unsuccessful. The server returned HTTP 409 Conflict. Response body:\n",
      "[b'{\"ok\":false,\"error_code\":409,\"description\":\"Conflict: terminated by other getUpdates request; make sure that only one bot instance is running\"}']\"\n",
      "2018-04-23 20:07:00,488 (__init__.py:224 MainThread) ERROR - TeleBot: \"A request to the Telegram API was unsuccessful. The server returned HTTP 409 Conflict. Response body:\n",
      "[b'{\"ok\":false,\"error_code\":409,\"description\":\"Conflict: terminated by other getUpdates request; make sure that only one bot instance is running\"}']\"\n",
      "2018-04-23 20:07:05,212 (__init__.py:224 MainThread) ERROR - TeleBot: \"A request to the Telegram API was unsuccessful. The server returned HTTP 409 Conflict. Response body:\n",
      "[b'{\"ok\":false,\"error_code\":409,\"description\":\"Conflict: terminated by other getUpdates request; make sure that only one bot instance is running\"}']\"\n",
      "2018-04-23 20:07:15,548 (__init__.py:224 MainThread) ERROR - TeleBot: \"A request to the Telegram API was unsuccessful. The server returned HTTP 409 Conflict. Response body:\n",
      "[b'{\"ok\":false,\"error_code\":409,\"description\":\"Conflict: terminated by other getUpdates request; make sure that only one bot instance is running\"}']\"\n",
      "2018-04-23 20:07:20,209 (__init__.py:224 MainThread) ERROR - TeleBot: \"A request to the Telegram API was unsuccessful. The server returned HTTP 409 Conflict. Response body:\n",
      "[b'{\"ok\":false,\"error_code\":409,\"description\":\"Conflict: terminated by other getUpdates request; make sure that only one bot instance is running\"}']\"\n",
      "2018-04-23 20:07:28,631 (__init__.py:224 MainThread) ERROR - TeleBot: \"A request to the Telegram API was unsuccessful. The server returned HTTP 409 Conflict. Response body:\n",
      "[b'{\"ok\":false,\"error_code\":409,\"description\":\"Conflict: terminated by other getUpdates request; make sure that only one bot instance is running\"}']\"\n",
      "2018-04-23 20:07:33,406 (__init__.py:224 MainThread) ERROR - TeleBot: \"A request to the Telegram API was unsuccessful. The server returned HTTP 409 Conflict. Response body:\n",
      "[b'{\"ok\":false,\"error_code\":409,\"description\":\"Conflict: terminated by other getUpdates request; make sure that only one bot instance is running\"}']\"\n",
      "2018-04-23 20:07:38,089 (__init__.py:224 MainThread) ERROR - TeleBot: \"A request to the Telegram API was unsuccessful. The server returned HTTP 409 Conflict. Response body:\n",
      "[b'{\"ok\":false,\"error_code\":409,\"description\":\"Conflict: terminated by other getUpdates request; make sure that only one bot instance is running\"}']\"\n",
      "2018-04-23 20:07:42,762 (__init__.py:224 MainThread) ERROR - TeleBot: \"A request to the Telegram API was unsuccessful. The server returned HTTP 409 Conflict. Response body:\n",
      "[b'{\"ok\":false,\"error_code\":409,\"description\":\"Conflict: terminated by other getUpdates request; make sure that only one bot instance is running\"}']\"\n",
      "2018-04-23 20:07:47,504 (__init__.py:224 MainThread) ERROR - TeleBot: \"A request to the Telegram API was unsuccessful. The server returned HTTP 409 Conflict. Response body:\n",
      "[b'{\"ok\":false,\"error_code\":409,\"description\":\"Conflict: terminated by other getUpdates request; make sure that only one bot instance is running\"}']\"\n",
      "2018-04-23 20:07:52,252 (__init__.py:224 MainThread) ERROR - TeleBot: \"A request to the Telegram API was unsuccessful. The server returned HTTP 409 Conflict. Response body:\n",
      "[b'{\"ok\":false,\"error_code\":409,\"description\":\"Conflict: terminated by other getUpdates request; make sure that only one bot instance is running\"}']\"\n",
      "2018-04-23 20:07:56,983 (__init__.py:224 MainThread) ERROR - TeleBot: \"A request to the Telegram API was unsuccessful. The server returned HTTP 409 Conflict. Response body:\n",
      "[b'{\"ok\":false,\"error_code\":409,\"description\":\"Conflict: terminated by other getUpdates request; make sure that only one bot instance is running\"}']\"\n",
      "2018-04-23 20:08:01,707 (__init__.py:224 MainThread) ERROR - TeleBot: \"A request to the Telegram API was unsuccessful. The server returned HTTP 409 Conflict. Response body:\n",
      "[b'{\"ok\":false,\"error_code\":409,\"description\":\"Conflict: terminated by other getUpdates request; make sure that only one bot instance is running\"}']\"\n",
      "2018-04-23 20:08:06,452 (__init__.py:224 MainThread) ERROR - TeleBot: \"A request to the Telegram API was unsuccessful. The server returned HTTP 409 Conflict. Response body:\n",
      "[b'{\"ok\":false,\"error_code\":409,\"description\":\"Conflict: terminated by other getUpdates request; make sure that only one bot instance is running\"}']\"\n",
      "2018-04-23 20:08:14,846 (__init__.py:224 MainThread) ERROR - TeleBot: \"A request to the Telegram API was unsuccessful. The server returned HTTP 409 Conflict. Response body:\n",
      "[b'{\"ok\":false,\"error_code\":409,\"description\":\"Conflict: terminated by other getUpdates request; make sure that only one bot instance is running\"}']\"\n",
      "2018-04-23 20:08:19,535 (__init__.py:224 MainThread) ERROR - TeleBot: \"A request to the Telegram API was unsuccessful. The server returned HTTP 409 Conflict. Response body:\n",
      "[b'{\"ok\":false,\"error_code\":409,\"description\":\"Conflict: terminated by other getUpdates request; make sure that only one bot instance is running\"}']\"\n",
      "2018-04-23 20:08:24,249 (__init__.py:224 MainThread) ERROR - TeleBot: \"A request to the Telegram API was unsuccessful. The server returned HTTP 409 Conflict. Response body:\n",
      "[b'{\"ok\":false,\"error_code\":409,\"description\":\"Conflict: terminated by other getUpdates request; make sure that only one bot instance is running\"}']\"\n",
      "2018-04-23 20:08:29,013 (__init__.py:224 MainThread) ERROR - TeleBot: \"A request to the Telegram API was unsuccessful. The server returned HTTP 409 Conflict. Response body:\n",
      "[b'{\"ok\":false,\"error_code\":409,\"description\":\"Conflict: terminated by other getUpdates request; make sure that only one bot instance is running\"}']\"\n",
      "2018-04-23 20:08:33,694 (__init__.py:224 MainThread) ERROR - TeleBot: \"A request to the Telegram API was unsuccessful. The server returned HTTP 409 Conflict. Response body:\n",
      "[b'{\"ok\":false,\"error_code\":409,\"description\":\"Conflict: terminated by other getUpdates request; make sure that only one bot instance is running\"}']\"\n"
     ]
    },
    {
     "name": "stderr",
     "output_type": "stream",
     "text": [
      "2018-04-23 20:08:38,406 (__init__.py:224 MainThread) ERROR - TeleBot: \"A request to the Telegram API was unsuccessful. The server returned HTTP 409 Conflict. Response body:\n",
      "[b'{\"ok\":false,\"error_code\":409,\"description\":\"Conflict: terminated by other getUpdates request; make sure that only one bot instance is running\"}']\"\n",
      "2018-04-23 20:08:43,148 (__init__.py:224 MainThread) ERROR - TeleBot: \"A request to the Telegram API was unsuccessful. The server returned HTTP 409 Conflict. Response body:\n",
      "[b'{\"ok\":false,\"error_code\":409,\"description\":\"Conflict: terminated by other getUpdates request; make sure that only one bot instance is running\"}']\"\n",
      "2018-04-23 20:08:47,891 (__init__.py:224 MainThread) ERROR - TeleBot: \"A request to the Telegram API was unsuccessful. The server returned HTTP 409 Conflict. Response body:\n",
      "[b'{\"ok\":false,\"error_code\":409,\"description\":\"Conflict: terminated by other getUpdates request; make sure that only one bot instance is running\"}']\"\n",
      "2018-04-23 20:08:52,574 (__init__.py:224 MainThread) ERROR - TeleBot: \"A request to the Telegram API was unsuccessful. The server returned HTTP 409 Conflict. Response body:\n",
      "[b'{\"ok\":false,\"error_code\":409,\"description\":\"Conflict: terminated by other getUpdates request; make sure that only one bot instance is running\"}']\"\n",
      "2018-04-23 20:08:57,271 (__init__.py:224 MainThread) ERROR - TeleBot: \"A request to the Telegram API was unsuccessful. The server returned HTTP 409 Conflict. Response body:\n",
      "[b'{\"ok\":false,\"error_code\":409,\"description\":\"Conflict: terminated by other getUpdates request; make sure that only one bot instance is running\"}']\"\n",
      "2018-04-23 20:09:02,029 (__init__.py:224 MainThread) ERROR - TeleBot: \"A request to the Telegram API was unsuccessful. The server returned HTTP 409 Conflict. Response body:\n",
      "[b'{\"ok\":false,\"error_code\":409,\"description\":\"Conflict: terminated by other getUpdates request; make sure that only one bot instance is running\"}']\"\n",
      "2018-04-23 20:09:06,772 (__init__.py:224 MainThread) ERROR - TeleBot: \"A request to the Telegram API was unsuccessful. The server returned HTTP 409 Conflict. Response body:\n",
      "[b'{\"ok\":false,\"error_code\":409,\"description\":\"Conflict: terminated by other getUpdates request; make sure that only one bot instance is running\"}']\"\n",
      "2018-04-23 20:09:12,499 (__init__.py:224 MainThread) ERROR - TeleBot: \"A request to the Telegram API was unsuccessful. The server returned HTTP 409 Conflict. Response body:\n",
      "[b'{\"ok\":false,\"error_code\":409,\"description\":\"Conflict: terminated by other getUpdates request; make sure that only one bot instance is running\"}']\"\n",
      "2018-04-23 20:09:17,232 (__init__.py:224 MainThread) ERROR - TeleBot: \"A request to the Telegram API was unsuccessful. The server returned HTTP 409 Conflict. Response body:\n",
      "[b'{\"ok\":false,\"error_code\":409,\"description\":\"Conflict: terminated by other getUpdates request; make sure that only one bot instance is running\"}']\"\n",
      "2018-04-23 20:09:22,032 (__init__.py:224 MainThread) ERROR - TeleBot: \"A request to the Telegram API was unsuccessful. The server returned HTTP 409 Conflict. Response body:\n",
      "[b'{\"ok\":false,\"error_code\":409,\"description\":\"Conflict: terminated by other getUpdates request; make sure that only one bot instance is running\"}']\"\n",
      "2018-04-23 20:09:26,733 (__init__.py:224 MainThread) ERROR - TeleBot: \"A request to the Telegram API was unsuccessful. The server returned HTTP 409 Conflict. Response body:\n",
      "[b'{\"ok\":false,\"error_code\":409,\"description\":\"Conflict: terminated by other getUpdates request; make sure that only one bot instance is running\"}']\"\n",
      "2018-04-23 20:09:31,495 (__init__.py:224 MainThread) ERROR - TeleBot: \"A request to the Telegram API was unsuccessful. The server returned HTTP 409 Conflict. Response body:\n",
      "[b'{\"ok\":false,\"error_code\":409,\"description\":\"Conflict: terminated by other getUpdates request; make sure that only one bot instance is running\"}']\"\n",
      "2018-04-23 20:09:36,160 (__init__.py:224 MainThread) ERROR - TeleBot: \"A request to the Telegram API was unsuccessful. The server returned HTTP 409 Conflict. Response body:\n",
      "[b'{\"ok\":false,\"error_code\":409,\"description\":\"Conflict: terminated by other getUpdates request; make sure that only one bot instance is running\"}']\"\n",
      "2018-04-23 20:09:40,885 (__init__.py:224 MainThread) ERROR - TeleBot: \"A request to the Telegram API was unsuccessful. The server returned HTTP 409 Conflict. Response body:\n",
      "[b'{\"ok\":false,\"error_code\":409,\"description\":\"Conflict: terminated by other getUpdates request; make sure that only one bot instance is running\"}']\"\n",
      "2018-04-23 20:09:45,697 (__init__.py:224 MainThread) ERROR - TeleBot: \"A request to the Telegram API was unsuccessful. The server returned HTTP 409 Conflict. Response body:\n",
      "[b'{\"ok\":false,\"error_code\":409,\"description\":\"Conflict: terminated by other getUpdates request; make sure that only one bot instance is running\"}']\"\n",
      "2018-04-23 20:09:50,445 (__init__.py:224 MainThread) ERROR - TeleBot: \"A request to the Telegram API was unsuccessful. The server returned HTTP 409 Conflict. Response body:\n",
      "[b'{\"ok\":false,\"error_code\":409,\"description\":\"Conflict: terminated by other getUpdates request; make sure that only one bot instance is running\"}']\"\n",
      "2018-04-23 20:09:55,182 (__init__.py:224 MainThread) ERROR - TeleBot: \"A request to the Telegram API was unsuccessful. The server returned HTTP 409 Conflict. Response body:\n",
      "[b'{\"ok\":false,\"error_code\":409,\"description\":\"Conflict: terminated by other getUpdates request; make sure that only one bot instance is running\"}']\"\n",
      "2018-04-23 20:09:59,865 (__init__.py:224 MainThread) ERROR - TeleBot: \"A request to the Telegram API was unsuccessful. The server returned HTTP 409 Conflict. Response body:\n",
      "[b'{\"ok\":false,\"error_code\":409,\"description\":\"Conflict: terminated by other getUpdates request; make sure that only one bot instance is running\"}']\"\n",
      "2018-04-23 20:10:04,580 (__init__.py:224 MainThread) ERROR - TeleBot: \"A request to the Telegram API was unsuccessful. The server returned HTTP 409 Conflict. Response body:\n",
      "[b'{\"ok\":false,\"error_code\":409,\"description\":\"Conflict: terminated by other getUpdates request; make sure that only one bot instance is running\"}']\"\n",
      "2018-04-23 20:10:09,418 (__init__.py:224 MainThread) ERROR - TeleBot: \"A request to the Telegram API was unsuccessful. The server returned HTTP 409 Conflict. Response body:\n",
      "[b'{\"ok\":false,\"error_code\":409,\"description\":\"Conflict: terminated by other getUpdates request; make sure that only one bot instance is running\"}']\"\n",
      "2018-04-23 20:10:15,963 (__init__.py:224 MainThread) ERROR - TeleBot: \"A request to the Telegram API was unsuccessful. The server returned HTTP 409 Conflict. Response body:\n",
      "[b'{\"ok\":false,\"error_code\":409,\"description\":\"Conflict: terminated by other getUpdates request; make sure that only one bot instance is running\"}']\"\n",
      "2018-04-23 20:10:20,686 (__init__.py:224 MainThread) ERROR - TeleBot: \"A request to the Telegram API was unsuccessful. The server returned HTTP 409 Conflict. Response body:\n",
      "[b'{\"ok\":false,\"error_code\":409,\"description\":\"Conflict: terminated by other getUpdates request; make sure that only one bot instance is running\"}']\"\n",
      "2018-04-23 20:10:25,391 (__init__.py:224 MainThread) ERROR - TeleBot: \"A request to the Telegram API was unsuccessful. The server returned HTTP 409 Conflict. Response body:\n",
      "[b'{\"ok\":false,\"error_code\":409,\"description\":\"Conflict: terminated by other getUpdates request; make sure that only one bot instance is running\"}']\"\n",
      "2018-04-23 20:10:30,084 (__init__.py:224 MainThread) ERROR - TeleBot: \"A request to the Telegram API was unsuccessful. The server returned HTTP 409 Conflict. Response body:\n",
      "[b'{\"ok\":false,\"error_code\":409,\"description\":\"Conflict: terminated by other getUpdates request; make sure that only one bot instance is running\"}']\"\n",
      "2018-04-23 20:10:34,812 (__init__.py:224 MainThread) ERROR - TeleBot: \"A request to the Telegram API was unsuccessful. The server returned HTTP 409 Conflict. Response body:\n",
      "[b'{\"ok\":false,\"error_code\":409,\"description\":\"Conflict: terminated by other getUpdates request; make sure that only one bot instance is running\"}']\"\n",
      "2018-04-23 20:10:39,645 (__init__.py:224 MainThread) ERROR - TeleBot: \"A request to the Telegram API was unsuccessful. The server returned HTTP 409 Conflict. Response body:\n",
      "[b'{\"ok\":false,\"error_code\":409,\"description\":\"Conflict: terminated by other getUpdates request; make sure that only one bot instance is running\"}']\"\n"
     ]
    },
    {
     "name": "stderr",
     "output_type": "stream",
     "text": [
      "2018-04-23 20:10:45,610 (__init__.py:224 MainThread) ERROR - TeleBot: \"A request to the Telegram API was unsuccessful. The server returned HTTP 409 Conflict. Response body:\n",
      "[b'{\"ok\":false,\"error_code\":409,\"description\":\"Conflict: terminated by other getUpdates request; make sure that only one bot instance is running\"}']\"\n",
      "2018-04-23 20:10:50,319 (__init__.py:224 MainThread) ERROR - TeleBot: \"A request to the Telegram API was unsuccessful. The server returned HTTP 409 Conflict. Response body:\n",
      "[b'{\"ok\":false,\"error_code\":409,\"description\":\"Conflict: terminated by other getUpdates request; make sure that only one bot instance is running\"}']\"\n",
      "2018-04-23 20:10:55,090 (__init__.py:224 MainThread) ERROR - TeleBot: \"A request to the Telegram API was unsuccessful. The server returned HTTP 409 Conflict. Response body:\n",
      "[b'{\"ok\":false,\"error_code\":409,\"description\":\"Conflict: terminated by other getUpdates request; make sure that only one bot instance is running\"}']\"\n",
      "2018-04-23 20:10:59,790 (__init__.py:224 MainThread) ERROR - TeleBot: \"A request to the Telegram API was unsuccessful. The server returned HTTP 409 Conflict. Response body:\n",
      "[b'{\"ok\":false,\"error_code\":409,\"description\":\"Conflict: terminated by other getUpdates request; make sure that only one bot instance is running\"}']\"\n",
      "2018-04-23 20:11:04,895 (__init__.py:224 MainThread) ERROR - TeleBot: \"A request to the Telegram API was unsuccessful. The server returned HTTP 409 Conflict. Response body:\n",
      "[b'{\"ok\":false,\"error_code\":409,\"description\":\"Conflict: terminated by other getUpdates request; make sure that only one bot instance is running\"}']\"\n",
      "2018-04-23 20:11:09,939 (__init__.py:224 MainThread) ERROR - TeleBot: \"A request to the Telegram API was unsuccessful. The server returned HTTP 409 Conflict. Response body:\n",
      "[b'{\"ok\":false,\"error_code\":409,\"description\":\"Conflict: terminated by other getUpdates request; make sure that only one bot instance is running\"}']\"\n"
     ]
    }
   ],
   "source": [
    "%run \"starter\""
   ]
  },
  {
   "cell_type": "code",
   "execution_count": null,
   "metadata": {
    "collapsed": true
   },
   "outputs": [],
   "source": [
    "\n",
    "\n"
   ]
  },
  {
   "cell_type": "code",
   "execution_count": null,
   "metadata": {
    "collapsed": true
   },
   "outputs": [],
   "source": []
  }
 ],
 "metadata": {
  "kernelspec": {
   "display_name": "Python 3",
   "language": "python",
   "name": "python3"
  },
  "language_info": {
   "codemirror_mode": {
    "name": "ipython",
    "version": 3
   },
   "file_extension": ".py",
   "mimetype": "text/x-python",
   "name": "python",
   "nbconvert_exporter": "python",
   "pygments_lexer": "ipython3",
   "version": "3.6.3"
  }
 },
 "nbformat": 4,
 "nbformat_minor": 2
}
